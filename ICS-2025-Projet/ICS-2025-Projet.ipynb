{
  "metadata": {
    "kernelspec": {
      "name": "python",
      "display_name": "Python (Pyodide)",
      "language": "python"
    },
    "language_info": {
      "codemirror_mode": {
        "name": "python",
        "version": 3
      },
      "file_extension": ".py",
      "mimetype": "text/x-python",
      "name": "python",
      "nbconvert_exporter": "python",
      "pygments_lexer": "ipython3",
      "version": "3.8"
    },
    "nteract": {
      "version": "0.28.0"
    }
  },
  "nbformat_minor": 5,
  "nbformat": 4,
  "cells": [
    {
      "id": "55d01b71",
      "cell_type": "markdown",
      "source": "# Chiffrement hybride en `Python` avec la librairie `Cryptography`",
      "metadata": {}
    },
    {
      "id": "88b357a3",
      "cell_type": "markdown",
      "source": "**A COMPLETER:** NOMS et prénoms du binôme",
      "metadata": {}
    },
    {
      "id": "23bee3bc",
      "cell_type": "markdown",
      "source": "Le mini-projet comporte 20 fonctions à programmer. Elles ont pratiquement toutes été vues dans les séances précédentes. Vous ajouterez des cellules à l'énoncé pour valider le bon fonctionnement de chacune des fonctions écrites (et dérouler un exemple d'exécution). En l'absence des exemples de validation, la note par exercice sera divisée par deux.\n\nVous avez à disposition les fichiers `root_CA.crt` et la clé privée correspondante `CA.pem` ainsi que le certificat de ma clé publique `bmartin.crt` (l'énoncé décrit leur usage).\n\nVous rendrez une archive au format `zip` sur la boîte de dépôt `Moodle` avant le 15 mai 2025 nommée `ICS-Nom1-Nom2.zip` (avec les noms du groupe). Les binômes (ou trinômes) sont autorisés. L'archive comprendra:\n\n- la feuille `jupyter` complétée avec les fonctions et des tests de bon fonctionnement des fonctions;\n- un certificat de clé RSA de 1024 bits au format `PEM` (cf. partie **2**) et la clé privée correspondante;\n- les deux scripts `Python` demandés à la fin de l'énoncé avec, dans une cellule, les appels à tester par un copier/coller dans un terminal (cf. partie **3**) ou un appel par `os.system()`;\n- un petit texte chiffré signé pour le destinataire `bmartin`.\n\nLa feuille de calcul remplie correctement avec les tests de bon fonctionnement rapporte 20 points. ",
      "metadata": {}
    },
    {
      "id": "081c5c06",
      "cell_type": "markdown",
      "source": "## Importation des librairies",
      "metadata": {}
    },
    {
      "id": "1e5d96db",
      "cell_type": "code",
      "source": "import zlib, binascii, secrets, os, base64, pickle, datetime\nfrom cryptography.hazmat.primitives import hashes, serialization\nfrom cryptography.hazmat.primitives.kdf.pbkdf2 import PBKDF2HMAC\nfrom cryptography.hazmat.primitives.ciphers import Cipher, algorithms, modes\nfrom cryptography.hazmat.primitives.asymmetric import padding, rsa, utils\nfrom cryptography import x509\nfrom cryptography.x509.oid import NameOID\nfrom cryptography.x509 import Certificate, DNSName, load_pem_x509_certificate",
      "metadata": {
        "trusted": true
      },
      "outputs": [],
      "execution_count": 1
    },
    {
      "id": "f67c1327",
      "cell_type": "markdown",
      "source": "## 1.1 Génération aléatoire du secret initial\n\nOn s'inspire du **TD1** pour engendrer une clé aléatoire. Vous utiliserez indifféremment l'extraction de bits de `/dev/random` comme dans le **TD1** ou la librairie `secrets` de `Python`.\n\n**Exercice 1.** Ecrivez la fonction `gencle` qui prend en entrée une taille  en bits et qui retourne une clé secrète aléatoire de la taille souhaitée (la suite de l'énoncé privilègie 192 bits). ",
      "metadata": {}
    },
    {
      "id": "e43506cc",
      "cell_type": "code",
      "source": "def gencle(bits:int)->bytes:\n    if bits % 8 != 0:\n        raise Exception(\"La taille de la clé doit être un multiple de 8\")\n    return secrets.token_bytes(bits // 8)",
      "metadata": {
        "trusted": true
      },
      "outputs": [],
      "execution_count": 2
    },
    {
      "id": "c93595c3-3554-49d1-8cad-dc86055746a3",
      "cell_type": "code",
      "source": "# -- Exemple --\ncle_192_bits = gencle(192)\nprint(f\"Clé générée (192 bits): {cle_192_bits.hex()}\")",
      "metadata": {
        "trusted": true
      },
      "outputs": [
        {
          "name": "stdout",
          "output_type": "stream",
          "text": "Clé générée (192 bits): b8b0e87a1dfa3e34c9c4945164c6c021812fbb259e9ec6cc\n"
        }
      ],
      "execution_count": 3
    },
    {
      "id": "fb0ff7c1",
      "cell_type": "markdown",
      "source": "## 1.2 Compression des clairs\n\nLa compression est souvent une étape préalable au chiffrement. On utilise la librairie `zlib`.\n\n**Exercice 2.1** Ecrivez une fonction `compresse` qui prend en entrée une chaîne de caractères `utf-8`, la convertit en `bytestream` avec comme type de sortie un `bytestream`.",
      "metadata": {}
    },
    {
      "id": "bff097d1",
      "cell_type": "code",
      "source": "def compresse(texte:str)-> bytes:\n    bytestream = texte.encode(\"utf-8\")\n    return zlib.compress(bytestream)",
      "metadata": {
        "trusted": true
      },
      "outputs": [],
      "execution_count": 4
    },
    {
      "id": "37b39196",
      "cell_type": "markdown",
      "source": "**Exercice 2.2.** Ecrivez La fonction `decompresse` qui prend en entrée le compressé au format `bytestream` et restitue la chaîne originale au format `utf-8`. ",
      "metadata": {}
    },
    {
      "id": "9fffcc8e",
      "cell_type": "code",
      "source": "def decompresse(comprime:bytes)->str:\n    decompressed_text = zlib.decompress(comprime)\n    return decompressed_text.decode(\"utf-8\")",
      "metadata": {
        "trusted": true
      },
      "outputs": [],
      "execution_count": 5
    },
    {
      "id": "ac96221a-f8da-436f-ab30-3916323e936d",
      "cell_type": "code",
      "source": "# -- Exemple --\ntext = \"ceci est un exemple\"\ncompressed_text = compresse(text)\nprint(f\"Résultat de la compression: {compressed_text}\")\ndecompressed_text = decompresse(compressed_text)\nprint(f\"Chaîne originale décompressée: {decompressed_text}\")",
      "metadata": {
        "trusted": true
      },
      "outputs": [
        {
          "name": "stdout",
          "output_type": "stream",
          "text": "Résultat de la compression: b'x\\x9cKNM\\xceTH-.Q(\\xcdSH\\xadH\\xcd-\\xc8I\\x05\\x00D\\xf3\\x07\\x14'\nChaîne originale décompressée: ceci est un exemple\n"
        }
      ],
      "execution_count": 6
    },
    {
      "id": "60506abc",
      "cell_type": "markdown",
      "source": "## 1.3 Dérivation de clé\n\nLa fonction qui permet de dériver une clé a été vue dans le **TD5**. Elle s'inspire directement de la [documentation](https://cryptography.io/en/latest/hazmat/primitives/key-derivation-functions/).\n\n**Exercice 3.** Ecrivez la fonction `derive` qui prend en entrée un secret initial (p.e. de 192 bits) et la taille de la clé dérivée (en bits). Elle retourne la clé dérivée du secret initial de la taille spécifiée en entrée. Les paramètres de la fonction de dérivation sont les premiers 128 bits du secret initial et les 64 bits suivants constituent le sel.",
      "metadata": {}
    },
    {
      "id": "1c668bf9",
      "cell_type": "code",
      "source": "def derive(secret:bytes, bits:int)->bytes:\n    if bits % 8 != 0:\n        raise ValueError(\"La taille de la clé doit être un multiple de 8\")\n    kdf_param = secret[:16]\n    salt = secret[16:]\n    kdf = PBKDF2HMAC(\n    algorithm=hashes.SHA256(),\n    length=(bits // 8),\n    salt=salt,\n    iterations=1_200_000\n    )\n    return kdf.derive(kdf_param)",
      "metadata": {
        "trusted": true
      },
      "outputs": [],
      "execution_count": 7
    },
    {
      "id": "7d20b3b2-e93a-4a88-89fa-9a29cb4aedc7",
      "cell_type": "code",
      "source": "## -- Exemple --\nsecret_initial = gencle(192)\ncle_derivee = derive(secret_initial, 256)\nprint(f\"Clé dérivée: {cle_derivee.hex()}\")\nkdf = PBKDF2HMAC(\n    algorithm=hashes.SHA256(),\n    length=32,\n    salt=secret_initial[16:],\n    iterations=1_200_000\n    )\n\n# Si cette ligne ne génère pas d'erreur, la clé est effectivement dérivée du secret initial fourni\nkdf.verify(secret_initial[:16], cle_derivee)",
      "metadata": {
        "trusted": true
      },
      "outputs": [
        {
          "name": "stdout",
          "output_type": "stream",
          "text": "Clé dérivée: b7d0dd493da191d15bb959f72255e03480d29984d5540899374e0911a1b26757\n"
        }
      ],
      "execution_count": 8
    },
    {
      "id": "9e47cbc5",
      "cell_type": "markdown",
      "source": "## 1.4 Fonctions de chiffrement par AES\n\nOn écrit les fonctions `encAES` et `decAES` analogues à celles du **TD2** pour chiffrer et déchiffrer un texte par `AES-128-CTR`. L'avantage du mode `CTR` est qu'il n'a pas besoin de bourrage.\n\n**Exercice 4.** Ecrivez la fonction `encAES` qui prend en entrée un texte au format `utf-8` et un secret initial de 192 bits. Elle va successivement compresser le texte avec la fonction `compresse`, calculer une clé de session et un IV dérivés par la fonction `derive` et chiffrer le compressé. Le chiffré sera retourné au format `bytestream`.",
      "metadata": {}
    },
    {
      "id": "00b4e0e0",
      "cell_type": "code",
      "source": "def encAES(texte:str, secret:bytes)->bytes:\n    compressed_text = compresse(texte)\n    \n    derived_key = derive(secret, 256)\n    session_key = derived_key[:16]\n    iv = derived_key[16:]\n    \n    cipher = Cipher(algorithms.AES128(session_key), modes.CTR(iv))\n    encryptor = cipher.encryptor()\n    encrypted_data = encryptor.update(compressed_text)\n\n    return encrypted_data",
      "metadata": {
        "trusted": true
      },
      "outputs": [],
      "execution_count": 9
    },
    {
      "id": "715097f1",
      "cell_type": "markdown",
      "source": "**Exercice 5.** Ecrivez la fonction `decAES` qui inverse le fonctionnement de la fonction de chiffrement et retournera un texte au format `utf-8`.",
      "metadata": {}
    },
    {
      "id": "6b399027",
      "cell_type": "code",
      "source": "def decAES(cryptogramme:bytes, secret:bytes)->str:\n    derived_key = derive(secret, 256)\n    session_key = derived_key[:16]\n    iv = derived_key[16:]\n\n    cipher = Cipher(algorithms.AES128(session_key), modes.CTR(iv))\n    decryptor = cipher.decryptor()\n    decrypted_data = decryptor.update(cryptogramme)\n\n    plaintext = decompresse(decrypted_data)\n    return plaintext",
      "metadata": {
        "trusted": true
      },
      "outputs": [],
      "execution_count": 10
    },
    {
      "id": "f89e1db0-1fea-40d6-b39e-10d08d0bba85",
      "cell_type": "code",
      "source": "# -- Exemple --\nsecret_initial = gencle(192)\ntexte = \"ceci est un clair\"\nciphertext = encAES(texte, secret_initial)\nprint(f\"Texte chiffré par AES-128-CTR: {ciphertext.hex()}\")\nprint(f\"Texte déchiffré: {decAES(ciphertext, secret_initial)}\")",
      "metadata": {
        "trusted": true
      },
      "outputs": [
        {
          "name": "stdout",
          "output_type": "stream",
          "text": "Texte chiffré par AES-128-CTR: e402463186458dbdb3c43994b750afc970b972dcf892a42617\nTexte déchiffré: ceci est un clair\n"
        }
      ],
      "execution_count": 11
    },
    {
      "id": "456182af",
      "cell_type": "markdown",
      "source": "## 1.5 Génération de clé RSA et enregistrement au format `pem`\n\nLes fonctions pour engendrer, écrire et lire une clé RSA  s'inspirent de celles du **TD3**. \n\n**Exercice 6.** Ecrivez la fonction `genRSA` qui prend en entrée la taille en bits de la clé RSA à engendrer et qui retourne l'objet de clé privée correspondant.",
      "metadata": {}
    },
    {
      "id": "43892d6c-7eca-4c68-8bcb-83f215ee2219",
      "cell_type": "code",
      "source": "def genRSA(taille:int)->rsa.RSAPrivateKey:\n    return rsa.generate_private_key(\n        public_exponent=65537,\n        key_size=taille\n    )",
      "metadata": {
        "trusted": true
      },
      "outputs": [],
      "execution_count": 12
    },
    {
      "id": "4840800a-4bc6-480a-928e-cce3256752d7",
      "cell_type": "markdown",
      "source": "**Exercice 7.** Ecrivez la fonction `saveRSA` qui prend en entrée un objet de clé RSA (privée ou publique)  et un nom de fichier (d'extension `.pem`). La fonction va enregistrer l'objet de clé au format `PEM` dans le fichier spécifié. La clé privée sera au format `PKCS8` et la publique au format `PKCS1`.",
      "metadata": {}
    },
    {
      "id": "c164f438",
      "cell_type": "code",
      "source": "def saveRSA(key, fic_cle:str):\n    if isinstance(key, rsa.RSAPrivateKey):\n        pem = key.private_bytes(\n            encoding=serialization.Encoding.PEM,\n            format=serialization.PrivateFormat.PKCS8,\n            encryption_algorithm=serialization.NoEncryption()\n        )\n    else:\n        pem = key.public_bytes(\n            encoding=serialization.Encoding.PEM,\n            format=serialization.PublicFormat.PKCS1\n        )\n\n    with open(fic_cle, 'wb') as file:\n        file.write(pem)",
      "metadata": {
        "trusted": true
      },
      "outputs": [],
      "execution_count": 13
    },
    {
      "id": "9e7632d2",
      "cell_type": "markdown",
      "source": "**Exercice 8.** Ecrivez la fonction `readRSA` qui prend comme entrée un nom de fichier (d'extension `.pem`). Elle va lire ce fichier au format `PEM` et reconstruire l'objet `Cryptography` correspondant.",
      "metadata": {}
    },
    {
      "id": "d4f75b70",
      "cell_type": "code",
      "source": "def readRSA(fic_cle:str):\n    with open(fic_cle, 'rb') as file:\n        pem = file.read()\n        if b\"PRIVATE\" in pem:\n            key = serialization.load_pem_private_key(\n                pem,\n                password=None\n            )\n        else:\n            key = serialization.load_pem_public_key(pem)\n        return key",
      "metadata": {
        "trusted": true
      },
      "outputs": [],
      "execution_count": 14
    },
    {
      "id": "d7200aea-cf59-4a3e-925c-d0e3f63bc585",
      "cell_type": "code",
      "source": "# -- Exemple --\na faire",
      "metadata": {
        "trusted": true
      },
      "outputs": [],
      "execution_count": 35
    },
    {
      "id": "2c7c5a2f",
      "cell_type": "markdown",
      "source": "## 1.6 Chiffrement et déchiffrement par RSA\n\nLes fonctions `encRSA` et `decRSA` sont analogues à celles écrites dans le **TD3** avec le padding `OAEP`. \n\n**Exercice 9.** Ecrivez la fonction`encRSA` qui va chiffrer un clair au format `bytestream` avec la clé publique. ",
      "metadata": {}
    },
    {
      "id": "efc3fdc6",
      "cell_type": "code",
      "source": "def encRSA(octets:bytes, clepub:rsa.RSAPublicKey)->bytes:\n    return clepub.encrypt(\n        octets,\n        padding.OAEP(\n            mgf=padding.MGF1(algorithm=hashes.SHA256()),\n            algorithm=hashes.SHA256(),\n            label=None\n        )\n    )",
      "metadata": {
        "trusted": true
      },
      "outputs": [],
      "execution_count": 15
    },
    {
      "id": "fa188d97",
      "cell_type": "markdown",
      "source": "**Exercice 10.** Ecrivez la fonction `decRSA` qui va déchiffrer le chiffré (binaire) avec la clé privée et retourner la suite d'octets initiale. ",
      "metadata": {}
    },
    {
      "id": "10283e1a",
      "cell_type": "code",
      "source": "def decRSA(octets:bytes, clepriv:rsa.RSAPrivateKey)->bytes:\n    return clepriv.decrypt(\n        octets,\n        padding.OAEP(\n            mgf=padding.MGF1(algorithm=hashes.SHA256()),\n            algorithm=hashes.SHA256(),\n            label=None\n        )\n    )",
      "metadata": {
        "trusted": true
      },
      "outputs": [],
      "execution_count": 16
    },
    {
      "id": "e1b58a68-dea6-481e-8d24-7a2bf9c3871a",
      "cell_type": "code",
      "source": "## -- Exemple --\na faire",
      "metadata": {
        "trusted": true
      },
      "outputs": [],
      "execution_count": null
    },
    {
      "id": "272ff309",
      "cell_type": "markdown",
      "source": "## 1.7 Chiffrement hybride\n\n\nCe travail a pour but d'implémenter un chiffrement hybride à la `PGP` pour lequel on va chiffrer par RSA le secret initial utilisé pour chiffrer un message par `AES`. \n<br>\n\n\n**Exercice 11.** Ecrivez la fonction de chiffrement `chiffre` qui prend en entrée un texte clair et la clé publique du destinataire et qui va fournir la concaténation :\n\n- du secret initial chiffré par la clé publique RSA du destinataire dans une enveloppe digitale;\n- le chiffrement du clair par `AES-128-CTR` utilisant le secret initial de 192 bits.\n\nQuelques précisions sur le format du chiffré hybride, au format `bytestream` qui contient:\n- la suite de 24 octets du secret initial est chiffrée par RSA avec la clé publique du destinataire. La taille de sortie de cette enveloppe digitale est de 128 octets;\n- on concatène ensuite le message chiffré avec le chiffre symétrique.\n\nEcrit en notation \"Alice et Bob\", en notant $K$ le secret initial, $pk$ la clé publique du destinataire et $m$ le message, on aura: $$\\{K\\}_{pk}.\\{m\\}_K$$\noù $.$ dénote l'opération de concaténation.\n\nPratiquement, ces valeurs seront sérialisées au moyen de la librairie `pickle` et l'ensemble est ensuite converti au format `base64` et retourné à l'utilisateur.\n",
      "metadata": {}
    },
    {
      "id": "6c7ed1b8",
      "cell_type": "code",
      "source": "def chiffre(message:str, pk:rsa.RSAPublicKey)->bytes:\n    secret = gencle(192)\n    encrypted_secret = encRSA(secret, pk)\n    ciphertext = encAES(message, secret)\n    data = (encrypted_secret, ciphertext)\n    pickled = pickle.dumps(data)\n    return base64.b64encode(pickled)",
      "metadata": {
        "trusted": true
      },
      "outputs": [],
      "execution_count": 17
    },
    {
      "id": "c6432069",
      "cell_type": "markdown",
      "source": "**Exercice 12.** Ecrivez la fonction `dechiffre` qui prend en entrée le chiffré hybride au format `base64` et la clé privée. Elle va:\n\n- décoder la suite sérialisée fournie au format `base64` pour retrouver les suites d'octets;\n    - le secret initial dans l'enveloppe digitale à déchiffrer pour récupérer le secret initial;\n    - le texte chiffré par `AES-128-CTR` à déchiffrer avec le secret initial récupéré.",
      "metadata": {}
    },
    {
      "id": "a73c09ec",
      "cell_type": "code",
      "source": "def dechiffre(chiffre64:bytes, sk:rsa.RSAPrivateKey)->str:\n    decoded = base64.b64decode(chiffre64)\n    encrypted_secret, ciphertext = pickle.loads(decoded)\n    secret = decRSA(encrypted_secret, sk)\n    return decAES(ciphertext, secret)",
      "metadata": {
        "trusted": true
      },
      "outputs": [],
      "execution_count": 18
    },
    {
      "id": "60137379-5a33-4be0-8f22-6a0fd2826dd9",
      "cell_type": "code",
      "source": "# -- Exemple --\nmessage = \"ceci est un clair\"\nsk = genRSA(2048)\npk = sk.public_key()\nchiffre64 = chiffre(message, pk)\nprint(f\"Message chiffré et encodé: {chiffre64}\")\ndecode = dechiffre(chiffre64, sk)\nprint(f\"Message décodé et déchiffré: {decode}\")",
      "metadata": {
        "trusted": true
      },
      "outputs": [
        {
          "name": "stdout",
          "output_type": "stream",
          "text": "Message chiffré et encodé: b'gASVJQEAAAAAAABCAAEAAIkEXQ27vwSXv41repfnO6S41eQ7vXRWKsz4sEHfVB/qjP/7iexXawFp0WXSLWRnGdLDRa+wcVyVUHdgvAmFOKQ5LUllglef02c1BKrM+trPDmE5avLkNG39vlc9jcp+ggyzETeYpkwNwjpaamDGawBJSnUy0tSs2sDO1Mi4VaZEh0l5Ivqx9U7klnEZs9rNfU9uhK3SRqby9RVQfcHa/ZtlzixkjnZ8a6iSE7k56fYYERnHSchJ7IMvUpLFebZCdXuPC47/3+OAaxqRC/iJIiS7dwRGp0dyo+vWzOvY0/bAqZUTCR/5dyU8aUzR2boN+fuHaeqbtD/qkk+8oYrBQUGUQxlnWO9vKA/fvi94eH4GnFpnf4mLNQILwbW2lIaULg=='\nMessage décodé et déchiffré: ceci est un clair\n"
        }
      ],
      "execution_count": 19
    },
    {
      "id": "22797cb0",
      "cell_type": "markdown",
      "source": "## 1.8 Signer et vérifier par RSA\n\nIl s'agit maintenant d'ajouter une authentification de l'expéditeur et d'assurer l'intérgrité. On utilise pour cela les fonctions `sigRSA` et `verRSA` utilisant RSA avec le padding `PSS` qui s'inspirent de celles écrite pour DSA au **TD4**.\n\n**Exercice 13.** Ecrivez la fonction `sigRSA` qui va signer un message au format `bytestream` avec la clé privée de l'expéditeur et retourner la signature au format `base64`.",
      "metadata": {}
    },
    {
      "id": "12e587fa",
      "cell_type": "code",
      "source": "def sigRSA(message:bytes, sk:rsa.RSAPrivateKey)->bytes:\n    return sk.sign(\n        message,\n        padding.PSS(\n            mgf=padding.MGF1(hashes.SHA256()),\n            salt_length=padding.PSS.MAX_LENGTH\n        ),\n        hashes.SHA256()\n    )",
      "metadata": {
        "trusted": true
      },
      "outputs": [],
      "execution_count": 20
    },
    {
      "id": "4861fa83",
      "cell_type": "markdown",
      "source": "**Exercice 14.** Ecrivez la fonction `verRSA` qui utilise la clé publique de l'expéditeur et vérifie que la signature signe bien le message transmis.",
      "metadata": {}
    },
    {
      "id": "6ee29b3f",
      "cell_type": "code",
      "source": "def verRSA(message:bytes, signature:bytes, pk:rsa.RSAPublicKey)->str:\n    try:\n        pk.verify(\n            signature,\n            message,\n            padding.PSS(\n                mgf=padding.MGF1(hashes.SHA256()),\n                salt_length=padding.PSS.MAX_LENGTH\n            ),\n            hashes.SHA256()\n        )\n        return True\n    except Exception as e:\n        print(e)\n        return False",
      "metadata": {
        "trusted": true
      },
      "outputs": [],
      "execution_count": 21
    },
    {
      "id": "78477a3f-7b36-4190-bcb5-c6234541f6f9",
      "cell_type": "code",
      "source": "# -- Exemple --\na faire",
      "metadata": {
        "trusted": true
      },
      "outputs": [],
      "execution_count": null
    },
    {
      "id": "12e074d3",
      "cell_type": "markdown",
      "source": "## 1.9 Chiffrement hybride authentifié\n\nVous pouvez maintenant assurer l'authentification de l'expéditeur au chiffrement hybride et l'intégrité du message. L'expéditeur va signer tout le chiffré et transmettre la sérialisation du message et de sa signature.\n\n**Exercice 15.** Ecrivez la fonction `HencS` qui prend en entrée un texte clair au format `utf-8`, la clé publique du destinataire, la clé privée de l'expéditeur et va:\n\n- appliquer la fonction de chiffrement hybride `chiffre`;\n- signer le chiffré obtenu précédemment au format `base64`;\n- sérialiser le chiffré et la signature au moyen de la librairie `pickle`\n\nEcrit en notation \"Alice et Bob\", en notant $K$ le secret initial, $pkd$ la clé publique du destinataire, $ske$ la clé privée de l'expéditeur et $m$ le message, on aura: $$\\{K\\}_{pkd}.\\{m\\}_K.\\{\\{K\\}_{pkd}\\{m\\}_K\\}_{ske}$$\noù $.$ dénote l'opération de concaténation.",
      "metadata": {}
    },
    {
      "id": "217d6940",
      "cell_type": "code",
      "source": "def HencS(message:str, pk:rsa.RSAPublicKey, sk:rsa.RSAPrivateKey)->bytes:\n    chiffre64 = chiffre(message, pk)\n    signature = sigRSA(chiffre64, sk)\n    data = (chiffre64, signature)\n    pickled = pickle.dumps(data)\n    return basee64.b64encode(pickled)",
      "metadata": {
        "trusted": true
      },
      "outputs": [],
      "execution_count": 22
    },
    {
      "id": "db9bd337",
      "cell_type": "markdown",
      "source": "**Exercice 16.** Ecrivez la fonction `HDecS` qui prend en entrée le message au format `base64`. Elle va:\n\n- décoder le message chiffré et signé pour retrouver la concaténation du chiffré et la signature;\n- extraire le chiffré et sa signature;\n- appliquer la fonction `verifie`;\n- déchiffrer le chiffré et l'afficher.",
      "metadata": {}
    },
    {
      "id": "5d763867",
      "cell_type": "code",
      "source": "def HdecS(message64:bytes, pk:rsa.RSAPublicKey, sk:rsa.RSAPrivateKey)->str:\n    decoded = base64.b64decode(message64)\n    ciphertext, signature = pickle.loads(decoded)\n    if verRSA(ciphertext, signature, pk):\n        return dechiffre(ciphertext, sk)\n    raise Exception(\"Signature verification failed.\")",
      "metadata": {
        "trusted": true
      },
      "outputs": [],
      "execution_count": 23
    },
    {
      "id": "07a4bffa-7ca0-4364-a352-4323bc2b9ffd",
      "cell_type": "code",
      "source": "# -- Exemple --\na faire",
      "metadata": {
        "trusted": true
      },
      "outputs": [],
      "execution_count": null
    },
    {
      "id": "04f8f7be-2994-45a0-9d79-4b9d6eb92c74",
      "cell_type": "markdown",
      "source": "## 2. Certification de la clé RSA\n\nIl est plus prudent d'obtenir un certificat de clé publique pour RSA !\n\n**Exercice 17.** Comme dans le **TD6**, créez une requête en signature de certificat (*certificate signing request*) pour une clé RSA avec la librairie `Cryptography` de `Python` et enregistrez-la sur le disque avec l'extension `.csr`.",
      "metadata": {}
    },
    {
      "id": "a11067e1-8de8-4802-8743-8208f438c589",
      "cell_type": "code",
      "source": "key = genRSA(1024)\n\ncsr = x509.CertificateSigningRequestBuilder().subject_name(x509.Name([\n    x509.NameAttribute(NameOID.COUNTRY_NAME, \"FR\"),\n    x509.NameAttribute(NameOID.STATE_OR_PROVINCE_NAME, \"PACA\"),\n    x509.NameAttribute(NameOID.LOCALITY_NAME, \"Valbonne\"),\n    x509.NameAttribute(NameOID.ORGANIZATION_NAME, \"Jawel Sacha Calvin\")\n])).sign(key, hashes.SHA256())\n\nwith open(\"example.csr\", \"wb\") as file:\n    file.write(csr.public_bytes(serialization.Encoding.PEM))",
      "metadata": {
        "trusted": true
      },
      "outputs": [],
      "execution_count": 25
    },
    {
      "id": "93ba6706-997c-4c2a-a5be-afbfeab56d9b",
      "cell_type": "markdown",
      "source": "**Exercice 18.** Certifiez la requête en signature de la clé RSA en utilisant `OpenSSL` pour engendrer le certificat. Le certificat racine vous est fourni sous le nom `root_CA.crt` ainsi que la biclé correspondante `CA.pem`. Donnez ensuite la commande `OpenSSL` qui permet de vérifier la validité de ce certificat avec l'autorité racine fournie.",
      "metadata": {}
    },
    {
      "id": "91bcb55d-0052-4a36-932c-cc358b8c720c",
      "cell_type": "code",
      "source": "openssl x509 -req -in example.csr -CA root_CA.crt -CAkey CA.pem -out example.crt -sha256\nopenssl verify -CAfile root_CA.crt example.crt",
      "metadata": {},
      "outputs": [],
      "execution_count": null
    },
    {
      "id": "a22e8a7d-ebe0-496e-af1e-f89a12617fa7",
      "cell_type": "markdown",
      "source": "**Exercice 19.** Ecrivez une fonction `Python` `ReadRSACert` qui va lire le certificat à partir de son nom de fichier et retourner l'objet de clé publique correspondant:",
      "metadata": {}
    },
    {
      "id": "ec059a97-8f20-46f8-bacf-93bac8daac30",
      "cell_type": "code",
      "source": "def ReadRSACert(file:str)->rsa.RSAPublicKey:\n    with open(file) as f:\n        data = f.read()\n        certificate = x509.load_pem_x509_certificate(data)\n        return certificate.public_key()",
      "metadata": {
        "trusted": true
      },
      "outputs": [],
      "execution_count": 26
    },
    {
      "id": "68de52b6",
      "cell_type": "markdown",
      "source": "## 3. Utilisation dans un terminal",
      "metadata": {}
    },
    {
      "id": "f77c26a8",
      "cell_type": "markdown",
      "source": "**Exercice 20.** Ecrivez deux scripts `Python` utilisables dans un terminal avec les paramètres, dans l'ordre:\n\n- destinataire ;\n- expéditeur ;\n- texte pour `ecrire.py` ou fichier pour `lire.py`.\n\nLe script `ecrire` prend en entrée le certificat de clé publique du destinataire, la clé privée de l'expéditeur, un petit texte au format `utf-8` et fournit le résultat du chiffrement hybride sur la sortie standard qui pourra être redirigé dans un fichier (`A2B.hyb` dans l'exemple ci-dessous).\n\nLe script `lire` prend en entrée la clé privée du destinataire, le certificat de clé publique de l'expéditeur ainsi que le fichier résultat du chiffrement hybride et valide la vérification de l'expéditeur puis affiche le texte clair au format `utf-8`.\n\nVous fournirez les deux scripts dans l'archive du compte-rendu ainsi qu'un exemple d'utilisation en écrivant un petit message à l'utilisateur `bmartin` au moyen de son certificat de clé publique.\n\n**Exemple**\n\n`python ecrire.py bmartin.crt alice.pem \"un petit exemple\" > A2B.hyb`\n\n`python lire.py bmartin.pem alice.crt A2B.hyb`",
      "metadata": {}
    }
  ]
}