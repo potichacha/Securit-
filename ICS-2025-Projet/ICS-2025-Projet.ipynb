{
  "cells": [
    {
      "cell_type": "markdown",
      "id": "55d01b71",
      "metadata": {},
      "source": [
        "# Chiffrement hybride en `Python` avec la librairie `Cryptography`"
      ]
    },
    {
      "cell_type": "markdown",
      "id": "88b357a3",
      "metadata": {},
      "source": [
        "**TRINÔME:** BRIKI Jawel, CHANTOISEAU Sacha, ZEGBEU Calvin"
      ]
    },
    {
      "cell_type": "markdown",
      "id": "23bee3bc",
      "metadata": {},
      "source": [
        "Le mini-projet comporte 20 fonctions à programmer. Elles ont pratiquement toutes été vues dans les séances précédentes. Vous ajouterez des cellules à l'énoncé pour valider le bon fonctionnement de chacune des fonctions écrites (et dérouler un exemple d'exécution). En l'absence des exemples de validation, la note par exercice sera divisée par deux.\n",
        "\n",
        "Vous avez à disposition les fichiers `root_CA.crt` et la clé privée correspondante `CA.pem` ainsi que le certificat de ma clé publique `bmartin.crt` (l'énoncé décrit leur usage).\n",
        "\n",
        "Vous rendrez une archive au format `zip` sur la boîte de dépôt `Moodle` avant le 15 mai 2025 nommée `ICS-Nom1-Nom2.zip` (avec les noms du groupe). Les binômes (ou trinômes) sont autorisés. L'archive comprendra:\n",
        "\n",
        "- la feuille `jupyter` complétée avec les fonctions et des tests de bon fonctionnement des fonctions;\n",
        "- un certificat de clé RSA de 1024 bits au format `PEM` (cf. partie **2**) et la clé privée correspondante;\n",
        "- les deux scripts `Python` demandés à la fin de l'énoncé avec, dans une cellule, les appels à tester par un copier/coller dans un terminal (cf. partie **3**) ou un appel par `os.system()`;\n",
        "- un petit texte chiffré signé pour le destinataire `bmartin`.\n",
        "\n",
        "La feuille de calcul remplie correctement avec les tests de bon fonctionnement rapporte 20 points. "
      ]
    },
    {
      "cell_type": "markdown",
      "id": "081c5c06",
      "metadata": {},
      "source": [
        "## Importation des librairies"
      ]
    },
    {
      "cell_type": "code",
      "execution_count": null,
      "id": "1e5d96db",
      "metadata": {
        "trusted": true
      },
      "outputs": [],
      "source": [
        "import zlib, binascii, secrets, os, base64, pickle, datetime\n",
        "from cryptography.hazmat.primitives import hashes, serialization\n",
        "from cryptography.hazmat.primitives.kdf.pbkdf2 import PBKDF2HMAC\n",
        "from cryptography.hazmat.primitives.ciphers import Cipher, algorithms, modes\n",
        "from cryptography.hazmat.primitives.asymmetric import padding, rsa, utils\n",
        "from cryptography import x509\n",
        "from cryptography.x509.oid import NameOID\n",
        "from cryptography.x509 import Certificate, DNSName, load_pem_x509_certificate"
      ]
    },
    {
      "cell_type": "code",
      "execution_count": 106,
      "id": "e43506cc",
      "metadata": {
        "trusted": true
      },
      "outputs": [],
      "source": [
        "def gencle(bits:int)->bytes:\n",
        "    if bits % 8 != 0:\n",
        "        raise Exception(\"La taille de la clé doit être un multiple de 8\")\n",
        "    return secrets.token_bytes(bits // 8)"
      ]
    },
    {
      "cell_type": "code",
      "execution_count": 107,
      "id": "c93595c3-3554-49d1-8cad-dc86055746a3",
      "metadata": {
        "trusted": true
      },
      "outputs": [
        {
          "name": "stdout",
          "output_type": "stream",
          "text": [
            "Clé générée (192 bits): 5f6d35dcd646da08631f03960d6be61e8f175d4b695d9ec1\n"
          ]
        }
      ],
      "source": [
        "# -- Exemple --\n",
        "cle_192_bits = gencle(192)\n",
        "print(f\"Clé générée (192 bits): {cle_192_bits.hex()}\")"
      ]
    },
    {
      "cell_type": "markdown",
      "id": "fb0ff7c1",
      "metadata": {},
      "source": [
        "## 1.2 Compression des clairs\n",
        "\n",
        "La compression est souvent une étape préalable au chiffrement. On utilise la librairie `zlib`.\n",
        "\n",
        "**Exercice 2.1** Ecrivez une fonction `compresse` qui prend en entrée une chaîne de caractères `utf-8`, la convertit en `bytestream` avec comme type de sortie un `bytestream`."
      ]
    },
    {
      "cell_type": "code",
      "execution_count": 108,
      "id": "bff097d1",
      "metadata": {
        "trusted": true
      },
      "outputs": [],
      "source": [
        "def compresse(texte:str)-> bytes:\n",
        "    bytestream = texte.encode(\"utf-8\")\n",
        "    return zlib.compress(bytestream)"
      ]
    },
    {
      "cell_type": "markdown",
      "id": "37b39196",
      "metadata": {},
      "source": [
        "**Exercice 2.2.** Ecrivez La fonction `decompresse` qui prend en entrée le compressé au format `bytestream` et restitue la chaîne originale au format `utf-8`. "
      ]
    },
    {
      "cell_type": "code",
      "execution_count": 109,
      "id": "9fffcc8e",
      "metadata": {
        "trusted": true
      },
      "outputs": [],
      "source": [
        "def decompresse(comprime:bytes)->str:\n",
        "    decompressed_text = zlib.decompress(comprime)\n",
        "    return decompressed_text.decode(\"utf-8\")"
      ]
    },
    {
      "cell_type": "code",
      "execution_count": 110,
      "id": "ac96221a-f8da-436f-ab30-3916323e936d",
      "metadata": {
        "trusted": true
      },
      "outputs": [
        {
          "name": "stdout",
          "output_type": "stream",
          "text": [
            "Résultat de la compression: b'x\\x9cKNM\\xceTH-.Q(\\xcdSH\\xadH\\xcd-\\xc8I\\x05\\x00D\\xf3\\x07\\x14'\n",
            "Chaîne originale décompressée: ceci est un exemple\n"
          ]
        }
      ],
      "source": [
        "# -- Exemple --\n",
        "text = \"ceci est un exemple\"\n",
        "compressed_text = compresse(text)\n",
        "print(f\"Résultat de la compression: {compressed_text}\")\n",
        "decompressed_text = decompresse(compressed_text)\n",
        "print(f\"Chaîne originale décompressée: {decompressed_text}\")"
      ]
    },
    {
      "cell_type": "markdown",
      "id": "60506abc",
      "metadata": {},
      "source": [
        "## 1.3 Dérivation de clé\n",
        "\n",
        "La fonction qui permet de dériver une clé a été vue dans le **TD5**. Elle s'inspire directement de la [documentation](https://cryptography.io/en/latest/hazmat/primitives/key-derivation-functions/).\n",
        "\n",
        "**Exercice 3.** Ecrivez la fonction `derive` qui prend en entrée un secret initial (p.e. de 192 bits) et la taille de la clé dérivée (en bits). Elle retourne la clé dérivée du secret initial de la taille spécifiée en entrée. Les paramètres de la fonction de dérivation sont les premiers 128 bits du secret initial et les 64 bits suivants constituent le sel."
      ]
    },
    {
      "cell_type": "code",
      "execution_count": 111,
      "id": "1c668bf9",
      "metadata": {
        "trusted": true
      },
      "outputs": [],
      "source": [
        "def derive(secret:bytes, bits:int)->bytes:\n",
        "    if bits % 8 != 0:\n",
        "        raise ValueError(\"La taille de la clé doit être un multiple de 8\")\n",
        "    kdf_param = secret[:16]\n",
        "    salt = secret[16:]\n",
        "    kdf = PBKDF2HMAC(\n",
        "    algorithm=hashes.SHA256(),\n",
        "    length=(bits // 8),\n",
        "    salt=salt,\n",
        "    iterations=1_200_000\n",
        "    )\n",
        "    return kdf.derive(kdf_param)"
      ]
    },
    {
      "cell_type": "code",
      "execution_count": 112,
      "id": "7d20b3b2-e93a-4a88-89fa-9a29cb4aedc7",
      "metadata": {
        "trusted": true
      },
      "outputs": [
        {
          "name": "stdout",
          "output_type": "stream",
          "text": [
            "Clé dérivée: 4282ba58d329ad5aace83b4afa4b03c26931ff9328a77234728774ad4a864c8d\n"
          ]
        }
      ],
      "source": [
        "## -- Exemple --\n",
        "secret_initial = gencle(192)\n",
        "cle_derivee = derive(secret_initial, 256)\n",
        "print(f\"Clé dérivée: {cle_derivee.hex()}\")\n",
        "kdf = PBKDF2HMAC(\n",
        "    algorithm=hashes.SHA256(),\n",
        "    length=32,\n",
        "    salt=secret_initial[16:],\n",
        "    iterations=1_200_000\n",
        "    )\n",
        "\n",
        "# Si cette ligne ne génère pas d'erreur, la clé est effectivement dérivée du secret initial fourni\n",
        "kdf.verify(secret_initial[:16], cle_derivee)"
      ]
    },
    {
      "cell_type": "markdown",
      "id": "9e47cbc5",
      "metadata": {},
      "source": [
        "## 1.4 Fonctions de chiffrement par AES\n",
        "\n",
        "On écrit les fonctions `encAES` et `decAES` analogues à celles du **TD2** pour chiffrer et déchiffrer un texte par `AES-128-CTR`. L'avantage du mode `CTR` est qu'il n'a pas besoin de bourrage.\n",
        "\n",
        "**Exercice 4.** Ecrivez la fonction `encAES` qui prend en entrée un texte au format `utf-8` et un secret initial de 192 bits. Elle va successivement compresser le texte avec la fonction `compresse`, calculer une clé de session et un IV dérivés par la fonction `derive` et chiffrer le compressé. Le chiffré sera retourné au format `bytestream`."
      ]
    },
    {
      "cell_type": "code",
      "execution_count": 113,
      "id": "00b4e0e0",
      "metadata": {
        "trusted": true
      },
      "outputs": [],
      "source": [
        "def encAES(texte:str, secret:bytes)->bytes:\n",
        "    compressed_text = compresse(texte)\n",
        "    \n",
        "    derived_key = derive(secret, 256)\n",
        "    session_key = derived_key[:16]\n",
        "    iv = derived_key[16:]\n",
        "    \n",
        "    cipher = Cipher(algorithms.AES128(session_key), modes.CTR(iv))\n",
        "    encryptor = cipher.encryptor()\n",
        "    encrypted_data = encryptor.update(compressed_text)\n",
        "\n",
        "    return encrypted_data"
      ]
    },
    {
      "cell_type": "markdown",
      "id": "715097f1",
      "metadata": {},
      "source": [
        "**Exercice 5.** Ecrivez la fonction `decAES` qui inverse le fonctionnement de la fonction de chiffrement et retournera un texte au format `utf-8`."
      ]
    },
    {
      "cell_type": "code",
      "execution_count": 114,
      "id": "6b399027",
      "metadata": {
        "trusted": true
      },
      "outputs": [],
      "source": [
        "def decAES(cryptogramme:bytes, secret:bytes)->str:\n",
        "    derived_key = derive(secret, 256)\n",
        "    session_key = derived_key[:16]\n",
        "    iv = derived_key[16:]\n",
        "\n",
        "    cipher = Cipher(algorithms.AES128(session_key), modes.CTR(iv))\n",
        "    decryptor = cipher.decryptor()\n",
        "    decrypted_data = decryptor.update(cryptogramme)\n",
        "\n",
        "    plaintext = decompresse(decrypted_data)\n",
        "    return plaintext"
      ]
    },
    {
      "cell_type": "code",
      "execution_count": 115,
      "id": "f89e1db0-1fea-40d6-b39e-10d08d0bba85",
      "metadata": {
        "trusted": true
      },
      "outputs": [
        {
          "name": "stdout",
          "output_type": "stream",
          "text": [
            "Texte chiffré par AES-128-CTR: 4ce381857368c8b24c3bc2adf048fa65e7a8246b83511daf4c\n",
            "Texte déchiffré: ceci est un clair\n"
          ]
        }
      ],
      "source": [
        "# -- Exemple --\n",
        "secret_initial = gencle(192)\n",
        "texte = \"ceci est un clair\"\n",
        "ciphertext = encAES(texte, secret_initial)\n",
        "print(f\"Texte chiffré par AES-128-CTR: {ciphertext.hex()}\")\n",
        "print(f\"Texte déchiffré: {decAES(ciphertext, secret_initial)}\")"
      ]
    },
    {
      "cell_type": "markdown",
      "id": "456182af",
      "metadata": {},
      "source": [
        "## 1.5 Génération de clé RSA et enregistrement au format `pem`\n",
        "\n",
        "Les fonctions pour engendrer, écrire et lire une clé RSA  s'inspirent de celles du **TD3**. \n",
        "\n",
        "**Exercice 6.** Ecrivez la fonction `genRSA` qui prend en entrée la taille en bits de la clé RSA à engendrer et qui retourne l'objet de clé privée correspondant."
      ]
    },
    {
      "cell_type": "code",
      "execution_count": 116,
      "id": "43892d6c-7eca-4c68-8bcb-83f215ee2219",
      "metadata": {
        "trusted": true
      },
      "outputs": [],
      "source": [
        "def genRSA(taille:int)->rsa.RSAPrivateKey:\n",
        "    return rsa.generate_private_key(\n",
        "        public_exponent=65537,\n",
        "        key_size=taille\n",
        "    )"
      ]
    },
    {
      "cell_type": "markdown",
      "id": "4840800a-4bc6-480a-928e-cce3256752d7",
      "metadata": {},
      "source": [
        "**Exercice 7.** Ecrivez la fonction `saveRSA` qui prend en entrée un objet de clé RSA (privée ou publique)  et un nom de fichier (d'extension `.pem`). La fonction va enregistrer l'objet de clé au format `PEM` dans le fichier spécifié. La clé privée sera au format `PKCS8` et la publique au format `PKCS1`."
      ]
    },
    {
      "cell_type": "code",
      "execution_count": 117,
      "id": "c164f438",
      "metadata": {
        "trusted": true
      },
      "outputs": [],
      "source": [
        "def saveRSA(key, fic_cle:str):\n",
        "    if isinstance(key, rsa.RSAPrivateKey):\n",
        "        pem = key.private_bytes(\n",
        "            encoding=serialization.Encoding.PEM,\n",
        "            format=serialization.PrivateFormat.PKCS8,\n",
        "            encryption_algorithm=serialization.NoEncryption()\n",
        "        )\n",
        "    else:\n",
        "        pem = key.public_bytes(\n",
        "            encoding=serialization.Encoding.PEM,\n",
        "            format=serialization.PublicFormat.PKCS1\n",
        "        )\n",
        "\n",
        "    with open(fic_cle, 'wb') as file:\n",
        "        file.write(pem)"
      ]
    },
    {
      "cell_type": "markdown",
      "id": "9e7632d2",
      "metadata": {},
      "source": [
        "**Exercice 8.** Ecrivez la fonction `readRSA` qui prend comme entrée un nom de fichier (d'extension `.pem`). Elle va lire ce fichier au format `PEM` et reconstruire l'objet `Cryptography` correspondant."
      ]
    },
    {
      "cell_type": "code",
      "execution_count": 118,
      "id": "d4f75b70",
      "metadata": {
        "trusted": true
      },
      "outputs": [],
      "source": [
        "def readRSA(fic_cle:str):\n",
        "    with open(fic_cle, 'rb') as file:\n",
        "        pem = file.read()\n",
        "        if b\"PRIVATE\" in pem:\n",
        "            key = serialization.load_pem_private_key(\n",
        "                pem,\n",
        "                password=None\n",
        "            )\n",
        "        else:\n",
        "            key = serialization.load_pem_public_key(pem)\n",
        "        return key"
      ]
    },
    {
      "cell_type": "code",
      "execution_count": 119,
      "id": "d7200aea-cf59-4a3e-925c-d0e3f63bc585",
      "metadata": {
        "trusted": true
      },
      "outputs": [
        {
          "name": "stdout",
          "output_type": "stream",
          "text": [
            "Cle privee.\n"
          ]
        }
      ],
      "source": [
        "# -- Exemple --\n",
        "sk = genRSA(2048)\n",
        "cle = 'ma_cle_privee.pem'\n",
        "saveRSA(sk, cle)\n",
        "cle_recue = readRSA(cle)\n",
        "if isinstance(cle_recue, rsa.RSAPrivateKey):\n",
        "    print(f'Cle privee.')\n",
        "else : \n",
        "    print(f'Cle publique.')"
      ]
    },
    {
      "cell_type": "markdown",
      "id": "2c7c5a2f",
      "metadata": {},
      "source": [
        "## 1.6 Chiffrement et déchiffrement par RSA\n",
        "\n",
        "Les fonctions `encRSA` et `decRSA` sont analogues à celles écrites dans le **TD3** avec le padding `OAEP`. \n",
        "\n",
        "**Exercice 9.** Ecrivez la fonction`encRSA` qui va chiffrer un clair au format `bytestream` avec la clé publique. "
      ]
    },
    {
      "cell_type": "code",
      "execution_count": 120,
      "id": "efc3fdc6",
      "metadata": {
        "trusted": true
      },
      "outputs": [],
      "source": [
        "def encRSA(octets:bytes, clepub:rsa.RSAPublicKey)->bytes:\n",
        "    return clepub.encrypt(\n",
        "        octets,\n",
        "        padding.OAEP(\n",
        "            mgf=padding.MGF1(algorithm=hashes.SHA256()),\n",
        "            algorithm=hashes.SHA256(),\n",
        "            label=None\n",
        "        )\n",
        "    )"
      ]
    },
    {
      "cell_type": "markdown",
      "id": "fa188d97",
      "metadata": {},
      "source": [
        "**Exercice 10.** Ecrivez la fonction `decRSA` qui va déchiffrer le chiffré (binaire) avec la clé privée et retourner la suite d'octets initiale. "
      ]
    },
    {
      "cell_type": "code",
      "execution_count": 121,
      "id": "10283e1a",
      "metadata": {
        "trusted": true
      },
      "outputs": [],
      "source": [
        "def decRSA(octets:bytes, clepriv:rsa.RSAPrivateKey)->bytes:\n",
        "    return clepriv.decrypt(\n",
        "        octets,\n",
        "        padding.OAEP(\n",
        "            mgf=padding.MGF1(algorithm=hashes.SHA256()),\n",
        "            algorithm=hashes.SHA256(),\n",
        "            label=None\n",
        "        )\n",
        "    )"
      ]
    },
    {
      "cell_type": "code",
      "execution_count": 122,
      "id": "e1b58a68-dea6-481e-8d24-7a2bf9c3871a",
      "metadata": {
        "trusted": true
      },
      "outputs": [
        {
          "name": "stdout",
          "output_type": "stream",
          "text": [
            "Chaîne originale: voici un magnifique exemple\n",
            "Chaine décompressée: b'x\\x9c+\\xcb\\xcfL\\xceT(\\xcdS\\xc8ML\\xcf\\xcbL\\xcb,,MUH\\xadH\\xcd-\\xc8I\\x05\\x00\\x90\\xb8\\nt'\n",
            "Chiffré: b\"&\\xb2P_\\x0c\\x1b?/K(D\\xa6\\x1d\\xdd\\x0c\\xdc\\x8c$I7\\xde\\x85\\xdc\\xdf\\x87\\xefm\\x9du6\\xac\\xbf\\xf6?.\\xc0u\\x07\\xc8\\x1e\\xef=\\x19\\xc7\\xc3\\x8bb|\\x7f\\x90}P\\x86\\xba\\x08\\x96AO935D\\xe3*0\\xe6eJ\\xc05\\xd6\\x16\\xc59'\\xbf\\xd7\\x1e|\\xf9>\\xab\\x1a\\xf6\\x81.t\\x8a\\x1c\\xda\\x8d\\x84\\x9ar3\\x15\\x8a\\xad\\n\\x0c\\xddS\\xb5\\x0e\\r\\xf5+\\xea\\xec\\xbcH\\x1e{\\xe3A\\xa8\\xee-)#\\xee\\x0c\\xfd\\x06\\\\\\xf7\\x9fxsR\\x8d\\x84h\\xee\\xf2\\xbe\\xab\\xd8\\xfft\\xcb\\x91\\xcb@\\xb2\\x1c;\\x99\\xc9\\x9c\\x86\\xcc\\xb9r\\xbf\\xd0\\x0b\\x915gX7\\x0bWY,O\\xf3\\x1e\\x8e\\x81\\xab\\x05\\xe3;~\\xcb\\x1c\\xf0\\x9b\\xe8\\x8f\\xfd\\xa7i\\xa8\\x90\\xc5\\xa4\\x95;R\\xc1\\xaf|\\x1e\\x910\\xd4Qi\\xeasL\\xb1\\xea\\xecL'\\xe6\\xec\\x1fEL\\xd4\\x8f\\xe7X\\xf2\\x91\\x05\\xfb'\\xc4'N\\\\\\xb6\\n~\\x9f\\x03\\xd5\\xde\\x95-z\\xe1\\x14\\x18/\\xe7\\xfa\\xd1r\\x1fQ\\xfe\\x8fp\\xfd\\xe5 \\xa2e\\x0e\"\n",
            "Déchiffré: b'x\\x9c+\\xcb\\xcfL\\xceT(\\xcdS\\xc8ML\\xcf\\xcbL\\xcb,,MUH\\xadH\\xcd-\\xc8I\\x05\\x00\\x90\\xb8\\nt'\n",
            "Chaine déchiffrée et décompressée: voici un magnifique exemple\n"
          ]
        }
      ],
      "source": [
        "## -- Exemple --\n",
        "\n",
        "entree = \"voici un magnifique exemple\"\n",
        "print(f'Chaîne originale: {entree}')\n",
        "pk = genRSA(2048)\n",
        "pk = sk.public_key()\n",
        "\n",
        "compresse_ = compresse(entree)\n",
        "print (f'Chaine décompressée: {compresse_}')\n",
        "encode = encRSA(compresse_, pk)\n",
        "print(f'Chiffré: {encode}')\n",
        "decode = decRSA(encode, sk)\n",
        "print(f'Déchiffré: {decode}')\n",
        "sortie = decompresse(decode)\n",
        "print (f'Chaine déchiffrée et décompressée: {sortie}')"
      ]
    },
    {
      "cell_type": "markdown",
      "id": "272ff309",
      "metadata": {},
      "source": [
        "## 1.7 Chiffrement hybride\n",
        "\n",
        "\n",
        "Ce travail a pour but d'implémenter un chiffrement hybride à la `PGP` pour lequel on va chiffrer par RSA le secret initial utilisé pour chiffrer un message par `AES`. \n",
        "<br>\n",
        "\n",
        "\n",
        "**Exercice 11.** Ecrivez la fonction de chiffrement `chiffre` qui prend en entrée un texte clair et la clé publique du destinataire et qui va fournir la concaténation :\n",
        "\n",
        "- du secret initial chiffré par la clé publique RSA du destinataire dans une enveloppe digitale;\n",
        "- le chiffrement du clair par `AES-128-CTR` utilisant le secret initial de 192 bits.\n",
        "\n",
        "Quelques précisions sur le format du chiffré hybride, au format `bytestream` qui contient:\n",
        "- la suite de 24 octets du secret initial est chiffrée par RSA avec la clé publique du destinataire. La taille de sortie de cette enveloppe digitale est de 128 octets;\n",
        "- on concatène ensuite le message chiffré avec le chiffre symétrique.\n",
        "\n",
        "Ecrit en notation \"Alice et Bob\", en notant $K$ le secret initial, $pk$ la clé publique du destinataire et $m$ le message, on aura: $$\\{K\\}_{pk}.\\{m\\}_K$$\n",
        "où $.$ dénote l'opération de concaténation.\n",
        "\n",
        "Pratiquement, ces valeurs seront sérialisées au moyen de la librairie `pickle` et l'ensemble est ensuite converti au format `base64` et retourné à l'utilisateur.\n"
      ]
    },
    {
      "cell_type": "code",
      "execution_count": 123,
      "id": "6c7ed1b8",
      "metadata": {
        "trusted": true
      },
      "outputs": [],
      "source": [
        "def chiffre(message:str, pk:rsa.RSAPublicKey)->bytes:\n",
        "    secret = gencle(192)\n",
        "    encrypted_secret = encRSA(secret, pk)\n",
        "    ciphertext = encAES(message, secret)\n",
        "    data = (encrypted_secret, ciphertext)\n",
        "    pickled = pickle.dumps(data)\n",
        "    return base64.b64encode(pickled)"
      ]
    },
    {
      "cell_type": "markdown",
      "id": "c6432069",
      "metadata": {},
      "source": [
        "**Exercice 12.** Ecrivez la fonction `dechiffre` qui prend en entrée le chiffré hybride au format `base64` et la clé privée. Elle va:\n",
        "\n",
        "- décoder la suite sérialisée fournie au format `base64` pour retrouver les suites d'octets;\n",
        "    - le secret initial dans l'enveloppe digitale à déchiffrer pour récupérer le secret initial;\n",
        "    - le texte chiffré par `AES-128-CTR` à déchiffrer avec le secret initial récupéré."
      ]
    },
    {
      "cell_type": "code",
      "execution_count": 124,
      "id": "a73c09ec",
      "metadata": {
        "trusted": true
      },
      "outputs": [],
      "source": [
        "def dechiffre(chiffre64:bytes, sk:rsa.RSAPrivateKey)->str:\n",
        "    decoded = base64.b64decode(chiffre64)\n",
        "    encrypted_secret, ciphertext = pickle.loads(decoded)\n",
        "    secret = decRSA(encrypted_secret, sk)\n",
        "    return decAES(ciphertext, secret)"
      ]
    },
    {
      "cell_type": "code",
      "execution_count": 125,
      "id": "60137379-5a33-4be0-8f22-6a0fd2826dd9",
      "metadata": {
        "trusted": true
      },
      "outputs": [
        {
          "name": "stdout",
          "output_type": "stream",
          "text": [
            "Message chiffré et encodé: b'gASVJQEAAAAAAABCAAEAACSCWJbdVC3737k1SB1KMDPnh50jd2mSP7RTnM7eRpXZKrmjD4OyRhZZpIvOGW+aammY0X5q0xfA8uFmQ+B7c/aOr/qYJPK0Wqa1iTovlIe5JliOIvyG9B++ezXIK9th9pB36gDCsKyXw+Xh0mFVoYFJTe4zDhfVQN7P0TkHu2UAWzNgpgeeRyxTeg3csF19uqoQTzioUkAH7hT/zgMfwYzOzZN87Bil72yD9/6Ac+LMuUjgArKySXlHz+zSa/gxM6K4fZs1sEyJdDVe0DwtLw0iDggI1QdmlBBgj7VQ90et1TzLA0fxepk1rWCskIpJkwDLvBZLDPJIiBH05PxbXuGUQxmFuvyFdUS4ZALaWnkKMYicyAE+dPnY5vualIaULg=='\n",
            "Message décodé et déchiffré: ceci est un clair\n"
          ]
        }
      ],
      "source": [
        "# -- Exemple --\n",
        "message = \"ceci est un clair\"\n",
        "sk = genRSA(2048)\n",
        "pk = sk.public_key()\n",
        "chiffre64 = chiffre(message, pk)\n",
        "print(f\"Message chiffré et encodé: {chiffre64}\")\n",
        "decode = dechiffre(chiffre64, sk)\n",
        "print(f\"Message décodé et déchiffré: {decode}\")"
      ]
    },
    {
      "cell_type": "markdown",
      "id": "22797cb0",
      "metadata": {},
      "source": [
        "## 1.8 Signer et vérifier par RSA\n",
        "\n",
        "Il s'agit maintenant d'ajouter une authentification de l'expéditeur et d'assurer l'intérgrité. On utilise pour cela les fonctions `sigRSA` et `verRSA` utilisant RSA avec le padding `PSS` qui s'inspirent de celles écrite pour DSA au **TD4**.\n",
        "\n",
        "**Exercice 13.** Ecrivez la fonction `sigRSA` qui va signer un message au format `bytestream` avec la clé privée de l'expéditeur et retourner la signature au format `base64`."
      ]
    },
    {
      "cell_type": "code",
      "execution_count": 126,
      "id": "12e587fa",
      "metadata": {
        "trusted": true
      },
      "outputs": [],
      "source": [
        "def sigRSA(message:bytes, sk:rsa.RSAPrivateKey)->bytes:\n",
        "    return sk.sign(\n",
        "        message,\n",
        "        padding.PSS(\n",
        "            mgf=padding.MGF1(hashes.SHA256()),\n",
        "            salt_length=padding.PSS.MAX_LENGTH\n",
        "        ),\n",
        "        hashes.SHA256()\n",
        "    )"
      ]
    },
    {
      "cell_type": "markdown",
      "id": "4861fa83",
      "metadata": {},
      "source": [
        "**Exercice 14.** Ecrivez la fonction `verRSA` qui utilise la clé publique de l'expéditeur et vérifie que la signature signe bien le message transmis."
      ]
    },
    {
      "cell_type": "code",
      "execution_count": 127,
      "id": "6ee29b3f",
      "metadata": {
        "trusted": true
      },
      "outputs": [],
      "source": [
        "def verRSA(message:bytes, signature:bytes, pk:rsa.RSAPublicKey)->str:\n",
        "    try:\n",
        "        pk.verify(\n",
        "            signature,\n",
        "            message,\n",
        "            padding.PSS(\n",
        "                mgf=padding.MGF1(hashes.SHA256()),\n",
        "                salt_length=padding.PSS.MAX_LENGTH\n",
        "            ),\n",
        "            hashes.SHA256()\n",
        "        )\n",
        "        return True\n",
        "    except Exception as e:\n",
        "        print(e)\n",
        "        return False"
      ]
    },
    {
      "cell_type": "code",
      "execution_count": 128,
      "id": "78477a3f-7b36-4190-bcb5-c6234541f6f9",
      "metadata": {
        "trusted": true
      },
      "outputs": [
        {
          "name": "stdout",
          "output_type": "stream",
          "text": [
            "La signature signe bien le message transmis.\n"
          ]
        }
      ],
      "source": [
        "# -- Exemple --\n",
        "message = compresse(\"Vive la cryptologie!\")\n",
        "signe = sigRSA(message,sk)\n",
        "if verRSA(message, signe, pk):\n",
        "    print('La signature signe bien le message transmis.')\n",
        "else:\n",
        "    print('La signature ne signe pas le message transmis.')"
      ]
    },
    {
      "cell_type": "markdown",
      "id": "12e074d3",
      "metadata": {},
      "source": [
        "## 1.9 Chiffrement hybride authentifié\n",
        "\n",
        "Vous pouvez maintenant assurer l'authentification de l'expéditeur au chiffrement hybride et l'intégrité du message. L'expéditeur va signer tout le chiffré et transmettre la sérialisation du message et de sa signature.\n",
        "\n",
        "**Exercice 15.** Ecrivez la fonction `HencS` qui prend en entrée un texte clair au format `utf-8`, la clé publique du destinataire, la clé privée de l'expéditeur et va:\n",
        "\n",
        "- appliquer la fonction de chiffrement hybride `chiffre`;\n",
        "- signer le chiffré obtenu précédemment au format `base64`;\n",
        "- sérialiser le chiffré et la signature au moyen de la librairie `pickle`\n",
        "\n",
        "Ecrit en notation \"Alice et Bob\", en notant $K$ le secret initial, $pkd$ la clé publique du destinataire, $ske$ la clé privée de l'expéditeur et $m$ le message, on aura: $$\\{K\\}_{pkd}.\\{m\\}_K.\\{\\{K\\}_{pkd}\\{m\\}_K\\}_{ske}$$\n",
        "où $.$ dénote l'opération de concaténation."
      ]
    },
    {
      "cell_type": "code",
      "execution_count": 129,
      "id": "217d6940",
      "metadata": {
        "trusted": true
      },
      "outputs": [],
      "source": [
        "def HencS(message:str, pk:rsa.RSAPublicKey, sk:rsa.RSAPrivateKey)->bytes:\n",
        "    chiffre64 = chiffre(message, pk)\n",
        "    signature = sigRSA(chiffre64, sk)\n",
        "    data = (chiffre64, signature)\n",
        "    pickled = pickle.dumps(data)\n",
        "    return base64.b64encode(pickled)"
      ]
    },
    {
      "cell_type": "markdown",
      "id": "db9bd337",
      "metadata": {},
      "source": [
        "**Exercice 16.** Ecrivez la fonction `HDecS` qui prend en entrée le message au format `base64`. Elle va:\n",
        "\n",
        "- décoder le message chiffré et signé pour retrouver la concaténation du chiffré et la signature;\n",
        "- extraire le chiffré et sa signature;\n",
        "- appliquer la fonction `verifie`;\n",
        "- déchiffrer le chiffré et l'afficher."
      ]
    },
    {
      "cell_type": "code",
      "execution_count": 130,
      "id": "5d763867",
      "metadata": {
        "trusted": true
      },
      "outputs": [],
      "source": [
        "def HdecS(message64:bytes, pk:rsa.RSAPublicKey, sk:rsa.RSAPrivateKey)->str:\n",
        "    decoded = base64.b64decode(message64)\n",
        "    ciphertext, signature = pickle.loads(decoded)\n",
        "    if verRSA(ciphertext, signature, pk):\n",
        "        return dechiffre(ciphertext, sk)\n",
        "    raise Exception(\"Signature verification failed.\")"
      ]
    },
    {
      "cell_type": "code",
      "execution_count": 131,
      "id": "07a4bffa-7ca0-4364-a352-4323bc2b9ffd",
      "metadata": {
        "trusted": true
      },
      "outputs": [
        {
          "name": "stdout",
          "output_type": "stream",
          "text": [
            "Message décodé:\n",
            "Il commence à faire chaud ici...\n"
          ]
        }
      ],
      "source": [
        "# -- Exemple --\n",
        "message = \"Il commence à faire chaud ici...\"\n",
        "encode = HencS(message, pk, sk)\n",
        "decode = HdecS(encode,  pk, sk)\n",
        "print(f'Message décodé:\\n{decode}')"
      ]
    },
    {
      "cell_type": "markdown",
      "id": "04f8f7be-2994-45a0-9d79-4b9d6eb92c74",
      "metadata": {},
      "source": [
        "## 2. Certification de la clé RSA\n",
        "\n",
        "Il est plus prudent d'obtenir un certificat de clé publique pour RSA !\n",
        "\n",
        "**Exercice 17.** Comme dans le **TD6**, créez une requête en signature de certificat (*certificate signing request*) pour une clé RSA avec la librairie `Cryptography` de `Python` et enregistrez-la sur le disque avec l'extension `.csr`."
      ]
    },
    {
      "cell_type": "code",
      "execution_count": 132,
      "id": "a11067e1-8de8-4802-8743-8208f438c589",
      "metadata": {
        "trusted": true
      },
      "outputs": [],
      "source": [
        "key = genRSA(1024)\n",
        "\n",
        "csr = x509.CertificateSigningRequestBuilder().subject_name(x509.Name([\n",
        "    x509.NameAttribute(NameOID.COUNTRY_NAME, \"FR\"),\n",
        "    x509.NameAttribute(NameOID.STATE_OR_PROVINCE_NAME, \"PACA\"),\n",
        "    x509.NameAttribute(NameOID.LOCALITY_NAME, \"Valbonne\"),\n",
        "    x509.NameAttribute(NameOID.ORGANIZATION_NAME, \"Jawel Sacha Calvin\")\n",
        "])).sign(key, hashes.SHA256())\n",
        "\n",
        "with open(\"example.csr\", \"wb\") as file:\n",
        "    file.write(csr.public_bytes(serialization.Encoding.PEM))"
      ]
    },
    {
      "cell_type": "markdown",
      "id": "93ba6706-997c-4c2a-a5be-afbfeab56d9b",
      "metadata": {},
      "source": [
        "**Exercice 18.** Certifiez la requête en signature de la clé RSA en utilisant `OpenSSL` pour engendrer le certificat. Le certificat racine vous est fourni sous le nom `root_CA.crt` ainsi que la biclé correspondante `CA.pem`. Donnez ensuite la commande `OpenSSL` qui permet de vérifier la validité de ce certificat avec l'autorité racine fournie."
      ]
    },
    {
      "cell_type": "code",
      "execution_count": null,
      "id": "91bcb55d-0052-4a36-932c-cc358b8c720c",
      "metadata": {},
      "outputs": [],
      "source": [
        "openssl x509 -req -in example.csr -CA root_CA.crt -CAkey CA.pem -out example.crt -sha256\n",
        "openssl verify -CAfile root_CA.crt example.crt"
      ]
    },
    {
      "cell_type": "markdown",
      "id": "a22e8a7d-ebe0-496e-af1e-f89a12617fa7",
      "metadata": {},
      "source": [
        "**Exercice 19.** Ecrivez une fonction `Python` `ReadRSACert` qui va lire le certificat à partir de son nom de fichier et retourner l'objet de clé publique correspondant:"
      ]
    },
    {
      "cell_type": "code",
      "execution_count": null,
      "id": "ec059a97-8f20-46f8-bacf-93bac8daac30",
      "metadata": {
        "trusted": true
      },
      "outputs": [],
      "source": [
        "def ReadRSACert(file:str)->rsa.RSAPublicKey:\n",
        "    with open(file, \"rb\") as f:\n",
        "        data = f.read()\n",
        "        certificate = x509.load_pem_x509_certificate(data)\n",
        "        return certificate.public_key()"
      ]
    },
    {
      "cell_type": "code",
      "execution_count": 135,
      "id": "753743d5",
      "metadata": {},
      "outputs": [
        {
          "data": {
            "text/plain": [
              "<cryptography.hazmat.backends.openssl.rsa._RSAPublicKey at 0x2887a028690>"
            ]
          },
          "execution_count": 138,
          "metadata": {},
          "output_type": "execute_result"
        }
      ],
      "source": []
    },
    {
      "cell_type": "markdown",
      "id": "68de52b6",
      "metadata": {},
      "source": [
        "## 3. Utilisation dans un terminal"
      ]
    },
    {
      "cell_type": "markdown",
      "id": "f77c26a8",
      "metadata": {},
      "source": [
        "**Exercice 20.** Ecrivez deux scripts `Python` utilisables dans un terminal avec les paramètres, dans l'ordre:\n",
        "\n",
        "- destinataire ;\n",
        "- expéditeur ;\n",
        "- texte pour `ecrire.py` ou fichier pour `lire.py`.\n",
        "\n",
        "Le script `ecrire` prend en entrée le certificat de clé publique du destinataire, la clé privée de l'expéditeur, un petit texte au format `utf-8` et fournit le résultat du chiffrement hybride sur la sortie standard qui pourra être redirigé dans un fichier (`A2B.hyb` dans l'exemple ci-dessous).\n",
        "\n",
        "Le script `lire` prend en entrée la clé privée du destinataire, le certificat de clé publique de l'expéditeur ainsi que le fichier résultat du chiffrement hybride et valide la vérification de l'expéditeur puis affiche le texte clair au format `utf-8`.\n",
        "\n",
        "Vous fournirez les deux scripts dans l'archive du compte-rendu ainsi qu'un exemple d'utilisation en écrivant un petit message à l'utilisateur `bmartin` au moyen de son certificat de clé publique.\n",
        "\n",
        "**Exemple**\n",
        "\n",
        "`python ecrire.py bmartin.crt alice.pem \"un petit exemple\" > A2B.hyb`\n",
        "\n",
        "`python lire.py bmartin.pem alice.crt A2B.hyb`"
      ]
    }
  ],
  "metadata": {
    "kernelspec": {
      "display_name": "base",
      "language": "python",
      "name": "python3"
    },
    "language_info": {
      "codemirror_mode": {
        "name": "ipython",
        "version": 3
      },
      "file_extension": ".py",
      "mimetype": "text/x-python",
      "name": "python",
      "nbconvert_exporter": "python",
      "pygments_lexer": "ipython3",
      "version": "3.11.4"
    },
    "nteract": {
      "version": "0.28.0"
    }
  },
  "nbformat": 4,
  "nbformat_minor": 5
}
