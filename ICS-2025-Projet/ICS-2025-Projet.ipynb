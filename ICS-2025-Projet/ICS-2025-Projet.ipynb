{
 "cells": [
  {
   "cell_type": "markdown",
   "id": "55d01b71",
   "metadata": {},
   "source": [
    "# Chiffrement hybride en `Python` avec la librairie `Cryptography`"
   ]
  },
  {
   "cell_type": "markdown",
   "id": "88b357a3",
   "metadata": {},
   "source": [
    "**A COMPLETER:** NOMS et prénoms du binôme"
   ]
  },
  {
   "cell_type": "markdown",
   "id": "23bee3bc",
   "metadata": {},
   "source": [
    "Le mini-projet comporte 20 fonctions à programmer. Elles ont pratiquement toutes été vues dans les séances précédentes. Vous ajouterez des cellules à l'énoncé pour valider le bon fonctionnement de chacune des fonctions écrites (et dérouler un exemple d'exécution). En l'absence des exemples de validation, la note par exercice sera divisée par deux.\n",
    "\n",
    "Vous avez à disposition les fichiers `root_CA.crt` et la clé privée correspondante `CA.pem` ainsi que le certificat de ma clé publique `bmartin.crt` (l'énoncé décrit leur usage).\n",
    "\n",
    "Vous rendrez une archive au format `zip` sur la boîte de dépôt `Moodle` avant le 15 mai 2025 nommée `ICS-Nom1-Nom2.zip` (avec les noms du groupe). Les binômes (ou trinômes) sont autorisés. L'archive comprendra:\n",
    "\n",
    "- la feuille `jupyter` complétée avec les fonctions et des tests de bon fonctionnement des fonctions;\n",
    "- un certificat de clé RSA de 1024 bits au format `PEM` (cf. partie **2**) et la clé privée correspondante;\n",
    "- les deux scripts `Python` demandés à la fin de l'énoncé avec, dans une cellule, les appels à tester par un copier/coller dans un terminal (cf. partie **3**) ou un appel par `os.system()`;\n",
    "- un petit texte chiffré signé pour le destinataire `bmartin`.\n",
    "\n",
    "La feuille de calcul remplie correctement avec les tests de bon fonctionnement rapporte 20 points. "
   ]
  },
  {
   "cell_type": "markdown",
   "id": "081c5c06",
   "metadata": {},
   "source": [
    "## Importation des librairies"
   ]
  },
  {
   "cell_type": "code",
   "execution_count": 1,
   "id": "1e5d96db",
   "metadata": {},
   "outputs": [],
   "source": [
    "import zlib, binascii, secrets, os, base64, pickle, datetime\n",
    "from cryptography.hazmat.primitives import hashes, serialization\n",
    "from cryptography.hazmat.primitives.kdf.pbkdf2 import PBKDF2HMAC\n",
    "from cryptography.hazmat.primitives.ciphers import Cipher, algorithms, modes\n",
    "from cryptography.hazmat.primitives.asymmetric import padding, rsa, utils\n",
    "from cryptography import x509\n",
    "from cryptography.x509.oid import NameOID\n",
    "from cryptography.x509 import Certificate, DNSName, load_pem_x509_certificate"
   ]
  },
  {
   "cell_type": "markdown",
   "id": "f67c1327",
   "metadata": {},
   "source": [
    "## 1.1 Génération aléatoire du secret initial\n",
    "\n",
    "On s'inspire du **TD1** pour engendrer une clé aléatoire. Vous utiliserez indifféremment l'extraction de bits de `/dev/random` comme dans le **TD1** ou la librairie `secrets` de `Python`.\n",
    "\n",
    "**Exercice 1.** Ecrivez la fonction `gencle` qui prend en entrée une taille  en bits et qui retourne une clé secrète aléatoire de la taille souhaitée (la suite de l'énoncé privilègie 192 bits). "
   ]
  },
  {
   "cell_type": "code",
   "execution_count": 4,
   "id": "e43506cc",
   "metadata": {},
   "outputs": [
    {
     "name": "stdout",
     "output_type": "stream",
     "text": [
      "Clé générée (192 bits) : d1e6fdc880f7aa3622455af810b5f90b005f283d586fe21f\n"
     ]
    }
   ],
   "source": [
    "def gencle(bits:int)->bytes:\n",
    "    if bits % 8 != 0:\n",
    "        raise ValueError(\"La taille de la clé doit etre un multiple de 8\")\n",
    "    key = secrets.token_bytes(bits //8)\n",
    "    return key\n",
    "\n",
    "cle = gencle(192)\n",
    "print(f\"Clé générée (192 bits) : {cle.hex()}\")"
   ]
  },
  {
   "cell_type": "markdown",
   "id": "fb0ff7c1",
   "metadata": {},
   "source": [
    "## 1.2 Compression des clairs\n",
    "\n",
    "La compression est souvent une étape préalable au chiffrement. On utilise la librairie `zlib`.\n",
    "\n",
    "**Exercice 2.1** Ecrivez une fonction `compresse` qui prend en entrée une chaîne de caractères `utf-8`, la convertit en `bytestream` avec comme type de sortie un `bytestream`."
   ]
  },
  {
   "cell_type": "code",
   "execution_count": null,
   "id": "bff097d1",
   "metadata": {},
   "outputs": [],
   "source": [
    "def compresse(texte:str)-> bytes:"
   ]
  },
  {
   "cell_type": "markdown",
   "id": "37b39196",
   "metadata": {},
   "source": [
    "**Exercice 2.2.** Ecrivez La fonction `decompresse` qui prend en entrée le compressé au format `bytestream` et restitue la chaîne originale au format `utf-8`. "
   ]
  },
  {
   "cell_type": "code",
   "execution_count": null,
   "id": "9fffcc8e",
   "metadata": {},
   "outputs": [],
   "source": [
    "def decompresse(comprime:bytes)->str:"
   ]
  },
  {
   "cell_type": "markdown",
   "id": "60506abc",
   "metadata": {},
   "source": [
    "## 1.3 Dérivation de clé\n",
    "\n",
    "La fonction qui permet de dériver une clé a été vue dans le **TD5**. Elle s'inspire directement de la [documentation](https://cryptography.io/en/latest/hazmat/primitives/key-derivation-functions/).\n",
    "\n",
    "**Exercice 3.** Ecrivez la fonction `derive` qui prend en entrée un secret initial (p.e. de 192 bits) et la taille de la clé dérivée (en bits). Elle retourne la clé dérivée du secret initial de la taille spécifiée en entrée. Les paramètres de la fonction de dérivation sont les premiers 128 bits du secret initial et les 64 bits suivants constituent le sel."
   ]
  },
  {
   "cell_type": "code",
   "execution_count": null,
   "id": "1c668bf9",
   "metadata": {},
   "outputs": [],
   "source": [
    "def derive(secret:bytes, bits:int)->bytes:"
   ]
  },
  {
   "cell_type": "markdown",
   "id": "9e47cbc5",
   "metadata": {},
   "source": [
    "## 1.4 Fonctions de chiffrement par AES\n",
    "\n",
    "On écrit les fonctions `encAES` et `decAES` analogues à celles du **TD2** pour chiffrer et déchiffrer un texte par `AES-128-CTR`. L'avantage du mode `CTR` est qu'il n'a pas besoin de bourrage.\n",
    "\n",
    "**Exercice 4.** Ecrivez la fonction `encAES` qui prend en entrée un texte au format `utf-8` et un secret initial de 192 bits. Elle va successivement compresser le texte avec la fonction `compresse`, calculer une clé de session et un IV dérivés par la fonction `derive` et chiffrer le compressé. Le chiffré sera retourné au format `bytestream`."
   ]
  },
  {
   "cell_type": "code",
   "execution_count": null,
   "id": "00b4e0e0",
   "metadata": {},
   "outputs": [],
   "source": [
    "def encAES(texte:str, secret:bytes)->bytes:"
   ]
  },
  {
   "cell_type": "markdown",
   "id": "715097f1",
   "metadata": {},
   "source": [
    "**Exercice 5.** Ecrivez la fonction `decAES` qui inverse le fonctionnement de la fonction de chiffrement et retournera un texte au format `utf-8`."
   ]
  },
  {
   "cell_type": "code",
   "execution_count": null,
   "id": "6b399027",
   "metadata": {},
   "outputs": [],
   "source": [
    "def decAES(cryptogramme:bytes, secret:bytes)->str:"
   ]
  },
  {
   "cell_type": "markdown",
   "id": "456182af",
   "metadata": {},
   "source": [
    "## 1.5 Génération de clé RSA et enregistrement au format `pem`\n",
    "\n",
    "Les fonctions pour engendrer, écrire et lire une clé RSA  s'inspirent de celles du **TD3**. \n",
    "\n",
    "**Exercice 6.** Ecrivez la fonction `genRSA` qui prend en entrée la taille en bits de la clé RSA à engendrer et qui retourne l'objet de clé privée correspondant."
   ]
  },
  {
   "cell_type": "code",
   "execution_count": null,
   "id": "43892d6c-7eca-4c68-8bcb-83f215ee2219",
   "metadata": {},
   "outputs": [],
   "source": [
    "def genRSA(taille:int)->rsa.RSAPrivateKey:"
   ]
  },
  {
   "cell_type": "markdown",
   "id": "4840800a-4bc6-480a-928e-cce3256752d7",
   "metadata": {},
   "source": [
    "**Exercice 7.** Ecrivez la fonction `saveRSA` qui prend en entrée un objet de clé RSA (privée ou publique)  et un nom de fichier (d'extension `.pem`). La fonction va enregistrer l'objet de clé au format `PEM` dans le fichier spécifié. La clé privée sera au format `PKCS8` et la publique au format `PKCS1`."
   ]
  },
  {
   "cell_type": "code",
   "execution_count": null,
   "id": "c164f438",
   "metadata": {},
   "outputs": [],
   "source": [
    "def saveRSA(key, fic_cle:str):"
   ]
  },
  {
   "cell_type": "markdown",
   "id": "9e7632d2",
   "metadata": {},
   "source": [
    "**Exercice 8.** Ecrivez la fonction `readRSA` qui prend comme entrée un nom de fichier (d'extension `.pem`). Elle va lire ce fichier au format `PEM` et reconstruire l'objet `Cryptography` correspondant."
   ]
  },
  {
   "cell_type": "code",
   "execution_count": null,
   "id": "d4f75b70",
   "metadata": {},
   "outputs": [],
   "source": [
    "def readRSA(fic_cle:str):"
   ]
  },
  {
   "cell_type": "markdown",
   "id": "2c7c5a2f",
   "metadata": {},
   "source": [
    "## 1.6 Chiffrement et déchiffrement par RSA\n",
    "\n",
    "Les fonctions `encRSA` et `decRSA` sont analogues à celles écrites dans le **TD3** avec le padding `OAEP`. \n",
    "\n",
    "**Exercice 9.** Ecrivez la fonction`encRSA` qui va chiffrer un clair au format `bytestream` avec la clé publique. "
   ]
  },
  {
   "cell_type": "code",
   "execution_count": null,
   "id": "efc3fdc6",
   "metadata": {},
   "outputs": [],
   "source": [
    "def encRSA(octets:bytes, clepub:rsa.RSAPublicKey)->bytes:"
   ]
  },
  {
   "cell_type": "markdown",
   "id": "fa188d97",
   "metadata": {},
   "source": [
    "**Exercice 10.** Ecrivez la fonction `decRSA` qui va déchiffrer le chiffré (binaire) avec la clé privée et retourner la suite d'octets initiale. "
   ]
  },
  {
   "cell_type": "code",
   "execution_count": null,
   "id": "10283e1a",
   "metadata": {},
   "outputs": [],
   "source": [
    "def decRSA(octets:bytes, clepriv:rsa.RSAPrivateKey)->bytes:"
   ]
  },
  {
   "cell_type": "markdown",
   "id": "272ff309",
   "metadata": {},
   "source": [
    "## 1.7 Chiffrement hybride\n",
    "\n",
    "\n",
    "Ce travail a pour but d'implémenter un chiffrement hybride à la `PGP` pour lequel on va chiffrer par RSA le secret initial utilisé pour chiffrer un message par `AES`. \n",
    "<br>\n",
    "\n",
    "\n",
    "**Exercice 11.** Ecrivez la fonction de chiffrement `chiffre` qui prend en entrée un texte clair et la clé publique du destinataire et qui va fournir la concaténation :\n",
    "\n",
    "- du secret initial chiffré par la clé publique RSA du destinataire dans une enveloppe digitale;\n",
    "- le chiffrement du clair par `AES-128-CTR` utilisant le secret initial de 192 bits.\n",
    "\n",
    "Quelques précisions sur le format du chiffré hybride, au format `bytestream` qui contient:\n",
    "- la suite de 24 octets du secret initial est chiffrée par RSA avec la clé publique du destinataire. La taille de sortie de cette enveloppe digitale est de 128 octets;\n",
    "- on concatène ensuite le message chiffré avec le chiffre symétrique.\n",
    "\n",
    "Ecrit en notation \"Alice et Bob\", en notant $K$ le secret initial, $pk$ la clé publique du destinataire et $m$ le message, on aura: $$\\{K\\}_{pk}.\\{m\\}_K$$\n",
    "où $.$ dénote l'opération de concaténation.\n",
    "\n",
    "Pratiquement, ces valeurs seront sérialisées au moyen de la librairie `pickle` et l'ensemble est ensuite converti au format `base64` et retourné à l'utilisateur.\n"
   ]
  },
  {
   "cell_type": "code",
   "execution_count": null,
   "id": "6c7ed1b8",
   "metadata": {},
   "outputs": [],
   "source": [
    "def chiffre(message:str, pk:rsa.RSAPublicKey)->bytes:"
   ]
  },
  {
   "cell_type": "markdown",
   "id": "c6432069",
   "metadata": {},
   "source": [
    "**Exercice 12.** Ecrivez la fonction `dechiffre` qui prend en entrée le chiffré hybride au format `base64` et la clé privée. Elle va:\n",
    "\n",
    "- décoder la suite sérialisée fournie au format `base64` pour retrouver les suites d'octets;\n",
    "    - le secret initial dans l'enveloppe digitale à déchiffrer pour récupérer le secret initial;\n",
    "    - le texte chiffré par `AES-128-CTR` à déchiffrer avec le secret initial récupéré."
   ]
  },
  {
   "cell_type": "code",
   "execution_count": null,
   "id": "a73c09ec",
   "metadata": {},
   "outputs": [],
   "source": [
    "def dechiffre(chiffre64:bytes, sk:rsa.RSAPrivateKey)->str:"
   ]
  },
  {
   "cell_type": "markdown",
   "id": "22797cb0",
   "metadata": {},
   "source": [
    "## 1.8 Signer et vérifier par RSA\n",
    "\n",
    "Il s'agit maintenant d'ajouter une authentification de l'expéditeur et d'assurer l'intérgrité. On utilise pour cela les fonctions `sigRSA` et `verRSA` utilisant RSA avec le padding `PSS` qui s'inspirent de celles écrite pour DSA au **TD4**.\n",
    "\n",
    "**Exercice 13.** Ecrivez la fonction `sigRSA` qui va signer un message au format `bytestream` avec la clé privée de l'expéditeur et retourner la signature au format `base64`."
   ]
  },
  {
   "cell_type": "code",
   "execution_count": null,
   "id": "12e587fa",
   "metadata": {},
   "outputs": [],
   "source": [
    "def sigRSA(message:bytes, sk:rsa.RSAPrivateKey)->bytes:"
   ]
  },
  {
   "cell_type": "markdown",
   "id": "4861fa83",
   "metadata": {},
   "source": [
    "**Exercice 14.** Ecrivez la fonction `verRSA` qui utilise la clé publique de l'expéditeur et vérifie que la signature signe bien le message transmis."
   ]
  },
  {
   "cell_type": "code",
   "execution_count": null,
   "id": "6ee29b3f",
   "metadata": {},
   "outputs": [],
   "source": [
    "def verRSA(message:bytes, signature:bytes, pk:rsa.RSAPublicKey)->str:"
   ]
  },
  {
   "cell_type": "markdown",
   "id": "12e074d3",
   "metadata": {},
   "source": [
    "## 1.9 Chiffrement hybride authentifié\n",
    "\n",
    "Vous pouvez maintenant assurer l'authentification de l'expéditeur au chiffrement hybride et l'intégrité du message. L'expéditeur va signer tout le chiffré et transmettre la sérialisation du message et de sa signature.\n",
    "\n",
    "**Exercice 15.** Ecrivez la fonction `HencS` qui prend en entrée un texte clair au format `utf-8`, la clé publique du destinataire, la clé privée de l'expéditeur et va:\n",
    "\n",
    "- appliquer la fonction de chiffrement hybride `chiffre`;\n",
    "- signer le chiffré obtenu précédemment au format `base64`;\n",
    "- sérialiser le chiffré et la signature au moyen de la librairie `pickle`\n",
    "\n",
    "Ecrit en notation \"Alice et Bob\", en notant $K$ le secret initial, $pkd$ la clé publique du destinataire, $ske$ la clé privée de l'expéditeur et $m$ le message, on aura: $$\\{K\\}_{pkd}.\\{m\\}_K.\\{\\{K\\}_{pkd}\\{m\\}_K\\}_{ske}$$\n",
    "où $.$ dénote l'opération de concaténation."
   ]
  },
  {
   "cell_type": "code",
   "execution_count": null,
   "id": "217d6940",
   "metadata": {},
   "outputs": [],
   "source": [
    "def HencS(message:str, pk:rsa.RSAPublicKey, sk:rsa.RSAPrivateKey)->bytes:"
   ]
  },
  {
   "cell_type": "markdown",
   "id": "db9bd337",
   "metadata": {},
   "source": [
    "**Exercice 16.** Ecrivez la fonction `HDecS` qui prend en entrée le message au format `base64`. Elle va:\n",
    "\n",
    "- décoder le message chiffré et signé pour retrouver la concaténation du chiffré et la signature;\n",
    "- extraire le chiffré et sa signature;\n",
    "- appliquer la fonction `verifie`;\n",
    "- déchiffrer le chiffré et l'afficher."
   ]
  },
  {
   "cell_type": "code",
   "execution_count": null,
   "id": "5d763867",
   "metadata": {},
   "outputs": [],
   "source": [
    "def HdecS(message64:bytes, pk:rsa.RSAPublicKey, sk:rsa.RSAPrivateKey)->str:"
   ]
  },
  {
   "cell_type": "markdown",
   "id": "04f8f7be-2994-45a0-9d79-4b9d6eb92c74",
   "metadata": {},
   "source": [
    "## 2. Certification de la clé RSA\n",
    "\n",
    "Il est plus prudent d'obtenir un certificat de clé publique pour RSA !\n",
    "\n",
    "**Exercice 17.** Comme dans le **TD6**, créez une requête en signature de certificat (*certificate signing request*) pour une clé RSA avec la librairie `Cryptography` de `Python` et enregistrez-la sur le disque avec l'extension `.csr`."
   ]
  },
  {
   "cell_type": "code",
   "execution_count": null,
   "id": "a11067e1-8de8-4802-8743-8208f438c589",
   "metadata": {},
   "outputs": [],
   "source": []
  },
  {
   "cell_type": "markdown",
   "id": "93ba6706-997c-4c2a-a5be-afbfeab56d9b",
   "metadata": {},
   "source": [
    "**Exercice 18.** Certifiez la requête en signature de la clé RSA en utilisant `OpenSSL` pour engendrer le certificat. Le certificat racine vous est fourni sous le nom `root_CA.crt` ainsi que la biclé correspondante `CA.pem`. Donnez ensuite la commande `OpenSSL` qui permet de vérifier la validité de ce certificat avec l'autorité racine fournie."
   ]
  },
  {
   "cell_type": "code",
   "execution_count": null,
   "id": "91bcb55d-0052-4a36-932c-cc358b8c720c",
   "metadata": {},
   "outputs": [],
   "source": []
  },
  {
   "cell_type": "markdown",
   "id": "a22e8a7d-ebe0-496e-af1e-f89a12617fa7",
   "metadata": {},
   "source": [
    "**Exercice 19.** Ecrivez une fonction `Python` `ReadRSACert` qui va lire le certificat à partir de son nom de fichier et retourner l'objet de clé publique correspondant:"
   ]
  },
  {
   "cell_type": "code",
   "execution_count": null,
   "id": "ec059a97-8f20-46f8-bacf-93bac8daac30",
   "metadata": {},
   "outputs": [],
   "source": [
    "def ReadRSACert(file:str)->rsa.RSAPublicKey:"
   ]
  },
  {
   "cell_type": "markdown",
   "id": "68de52b6",
   "metadata": {},
   "source": [
    "## 3. Utilisation dans un terminal"
   ]
  },
  {
   "cell_type": "markdown",
   "id": "f77c26a8",
   "metadata": {},
   "source": [
    "**Exercice 20.** Ecrivez deux scripts `Python` utilisables dans un terminal avec les paramètres, dans l'ordre:\n",
    "\n",
    "- destinataire ;\n",
    "- expéditeur ;\n",
    "- texte pour `ecrire.py` ou fichier pour `lire.py`.\n",
    "\n",
    "Le script `ecrire` prend en entrée le certificat de clé publique du destinataire, la clé privée de l'expéditeur, un petit texte au format `utf-8` et fournit le résultat du chiffrement hybride sur la sortie standard qui pourra être redirigé dans un fichier (`A2B.hyb` dans l'exemple ci-dessous).\n",
    "\n",
    "Le script `lire` prend en entrée la clé privée du destinataire, le certificat de clé publique de l'expéditeur ainsi que le fichier résultat du chiffrement hybride et valide la vérification de l'expéditeur puis affiche le texte clair au format `utf-8`.\n",
    "\n",
    "Vous fournirez les deux scripts dans l'archive du compte-rendu ainsi qu'un exemple d'utilisation en écrivant un petit message à l'utilisateur `bmartin` au moyen de son certificat de clé publique.\n",
    "\n",
    "**Exemple**\n",
    "\n",
    "`python ecrire.py bmartin.crt alice.pem \"un petit exemple\" > A2B.hyb`\n",
    "\n",
    "`python lire.py bmartin.pem alice.crt A2B.hyb`"
   ]
  }
 ],
 "metadata": {
  "kernelspec": {
   "display_name": "base",
   "language": "python",
   "name": "python3"
  },
  "language_info": {
   "codemirror_mode": {
    "name": "ipython",
    "version": 3
   },
   "file_extension": ".py",
   "mimetype": "text/x-python",
   "name": "python",
   "nbconvert_exporter": "python",
   "pygments_lexer": "ipython3",
   "version": "3.9.13"
  },
  "nteract": {
   "version": "0.28.0"
  }
 },
 "nbformat": 4,
 "nbformat_minor": 5
}
